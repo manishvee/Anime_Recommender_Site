{
 "cells": [
  {
   "cell_type": "code",
   "execution_count": 3,
   "id": "88fbde88-146e-4a5d-9b03-d5bf7116d16e",
   "metadata": {},
   "outputs": [],
   "source": [
    "import numpy as np\n",
    "import pandas as pd\n",
    "import matplotlib.pyplot as plt"
   ]
  },
  {
   "cell_type": "code",
   "execution_count": 4,
   "id": "f21e7846-1ba5-40cc-88f8-87564ffdb560",
   "metadata": {},
   "outputs": [],
   "source": [
    "anime = pd.read_csv(\"Datasets/anime.csv\")\n",
    "ratings = pd.read_csv(\"Datasets/rating.csv\")"
   ]
  },
  {
   "cell_type": "code",
   "execution_count": 5,
   "id": "f659fc7c-4b4a-4a56-8893-9624b829066a",
   "metadata": {},
   "outputs": [
    {
     "data": {
      "text/html": [
       "<div>\n",
       "<style scoped>\n",
       "    .dataframe tbody tr th:only-of-type {\n",
       "        vertical-align: middle;\n",
       "    }\n",
       "\n",
       "    .dataframe tbody tr th {\n",
       "        vertical-align: top;\n",
       "    }\n",
       "\n",
       "    .dataframe thead th {\n",
       "        text-align: right;\n",
       "    }\n",
       "</style>\n",
       "<table border=\"1\" class=\"dataframe\">\n",
       "  <thead>\n",
       "    <tr style=\"text-align: right;\">\n",
       "      <th></th>\n",
       "      <th>anime_id</th>\n",
       "      <th>name</th>\n",
       "      <th>genre</th>\n",
       "      <th>type</th>\n",
       "      <th>episodes</th>\n",
       "      <th>rating</th>\n",
       "      <th>members</th>\n",
       "    </tr>\n",
       "  </thead>\n",
       "  <tbody>\n",
       "    <tr>\n",
       "      <th>0</th>\n",
       "      <td>32281</td>\n",
       "      <td>Kimi no Na wa.</td>\n",
       "      <td>Drama, Romance, School, Supernatural</td>\n",
       "      <td>Movie</td>\n",
       "      <td>1</td>\n",
       "      <td>9.37</td>\n",
       "      <td>200630</td>\n",
       "    </tr>\n",
       "    <tr>\n",
       "      <th>1</th>\n",
       "      <td>5114</td>\n",
       "      <td>Fullmetal Alchemist: Brotherhood</td>\n",
       "      <td>Action, Adventure, Drama, Fantasy, Magic, Mili...</td>\n",
       "      <td>TV</td>\n",
       "      <td>64</td>\n",
       "      <td>9.26</td>\n",
       "      <td>793665</td>\n",
       "    </tr>\n",
       "    <tr>\n",
       "      <th>2</th>\n",
       "      <td>28977</td>\n",
       "      <td>Gintama°</td>\n",
       "      <td>Action, Comedy, Historical, Parody, Samurai, S...</td>\n",
       "      <td>TV</td>\n",
       "      <td>51</td>\n",
       "      <td>9.25</td>\n",
       "      <td>114262</td>\n",
       "    </tr>\n",
       "    <tr>\n",
       "      <th>3</th>\n",
       "      <td>9253</td>\n",
       "      <td>Steins;Gate</td>\n",
       "      <td>Sci-Fi, Thriller</td>\n",
       "      <td>TV</td>\n",
       "      <td>24</td>\n",
       "      <td>9.17</td>\n",
       "      <td>673572</td>\n",
       "    </tr>\n",
       "    <tr>\n",
       "      <th>4</th>\n",
       "      <td>9969</td>\n",
       "      <td>Gintama&amp;#039;</td>\n",
       "      <td>Action, Comedy, Historical, Parody, Samurai, S...</td>\n",
       "      <td>TV</td>\n",
       "      <td>51</td>\n",
       "      <td>9.16</td>\n",
       "      <td>151266</td>\n",
       "    </tr>\n",
       "  </tbody>\n",
       "</table>\n",
       "</div>"
      ],
      "text/plain": [
       "   anime_id                              name  \\\n",
       "0     32281                    Kimi no Na wa.   \n",
       "1      5114  Fullmetal Alchemist: Brotherhood   \n",
       "2     28977                          Gintama°   \n",
       "3      9253                       Steins;Gate   \n",
       "4      9969                     Gintama&#039;   \n",
       "\n",
       "                                               genre   type episodes  rating  \\\n",
       "0               Drama, Romance, School, Supernatural  Movie        1    9.37   \n",
       "1  Action, Adventure, Drama, Fantasy, Magic, Mili...     TV       64    9.26   \n",
       "2  Action, Comedy, Historical, Parody, Samurai, S...     TV       51    9.25   \n",
       "3                                   Sci-Fi, Thriller     TV       24    9.17   \n",
       "4  Action, Comedy, Historical, Parody, Samurai, S...     TV       51    9.16   \n",
       "\n",
       "   members  \n",
       "0   200630  \n",
       "1   793665  \n",
       "2   114262  \n",
       "3   673572  \n",
       "4   151266  "
      ]
     },
     "execution_count": 5,
     "metadata": {},
     "output_type": "execute_result"
    }
   ],
   "source": [
    "anime.head()"
   ]
  },
  {
   "cell_type": "code",
   "execution_count": 6,
   "id": "4b6f9016-ddf3-4e2e-a770-2e162c05dd55",
   "metadata": {},
   "outputs": [
    {
     "name": "stdout",
     "output_type": "stream",
     "text": [
      "anime_id      0\n",
      "name          0\n",
      "genre        62\n",
      "type         25\n",
      "episodes      0\n",
      "rating      230\n",
      "members       0\n",
      "dtype: int64\n"
     ]
    }
   ],
   "source": [
    "print(anime.isnull().sum())"
   ]
  },
  {
   "cell_type": "code",
   "execution_count": 7,
   "id": "9a955ee5-2726-4850-9bd8-1b4a610658eb",
   "metadata": {},
   "outputs": [
    {
     "data": {
      "text/plain": [
       "anime_id    12294\n",
       "name        12294\n",
       "genre       12232\n",
       "type        12269\n",
       "episodes    12294\n",
       "rating      12064\n",
       "members     12294\n",
       "dtype: int64"
      ]
     },
     "execution_count": 7,
     "metadata": {},
     "output_type": "execute_result"
    }
   ],
   "source": [
    "anime.count()"
   ]
  },
  {
   "cell_type": "code",
   "execution_count": 14,
   "id": "978816f2-1c59-4bc3-95d0-251daa7ac262",
   "metadata": {},
   "outputs": [
    {
     "name": "stdout",
     "output_type": "stream",
     "text": [
      "       anime_id                                               name genre  \\\n",
      "2844      33242          IS: Infinite Stratos 2 - Infinite Wedding   NaN   \n",
      "3541      33589                                      ViVid Strike!   NaN   \n",
      "6040      29765                                  Metropolis (2009)   NaN   \n",
      "6646      32695                                       Match Shoujo   NaN   \n",
      "7018      33187                                   Katsudou Shashin   NaN   \n",
      "...         ...                                                ...   ...   \n",
      "11070     32032                                    Seikaisuru Kado   NaN   \n",
      "11086     34310  Tamagotchi Movie: Tanpen Himitsu no Otodoke Da...   NaN   \n",
      "11097     34474                             Tsukipro The Animation   NaN   \n",
      "11112     33035                                  Yuyushiki Special   NaN   \n",
      "11113     33390                                      Zunda Horizon   NaN   \n",
      "\n",
      "          type episodes  rating  members  \n",
      "2844   Special        1    7.15     6604  \n",
      "3541        TV       12    6.96    12345  \n",
      "6040     Movie        1    6.27      313  \n",
      "6646       ONA        1    6.02      242  \n",
      "7018     Movie        1    5.79      607  \n",
      "...        ...      ...     ...      ...  \n",
      "11070      NaN  Unknown     NaN     1797  \n",
      "11086    Movie        1     NaN       51  \n",
      "11097       TV  Unknown     NaN      843  \n",
      "11112  Special        1     NaN     2294  \n",
      "11113    Movie        1     NaN      160  \n",
      "\n",
      "[62 rows x 7 columns]\n"
     ]
    }
   ],
   "source": [
    "print(anime[anime['genre'].isnull()])"
   ]
  },
  {
   "cell_type": "code",
   "execution_count": 15,
   "id": "1a76dd49-1b0b-4256-8763-0f647a288c10",
   "metadata": {},
   "outputs": [
    {
     "name": "stdout",
     "output_type": "stream",
     "text": [
      "       anime_id                              name  \\\n",
      "10898     30484                     Steins;Gate 0   \n",
      "10900     34437   Code Geass: Fukkatsu no Lelouch   \n",
      "10906     33352                 Violet Evergarden   \n",
      "10907     33248                  K: Seven Stories   \n",
      "10918     33845                  Free! (Shinsaku)   \n",
      "10949     33475     Busou Shoujo Machiavellianism   \n",
      "10963     31456  Code:Realize: Sousei no Himegimi   \n",
      "10983     34332                     Flying Babies   \n",
      "10988     34280                           Gamers!   \n",
      "10990     34485                        Ganko-chan   \n",
      "10991     32455                           Gekidol   \n",
      "10994     31433       Ginga Eiyuu Densetsu (2017)   \n",
      "10995     28613            Ginga Jinpuu Jinraiger   \n",
      "10998     34279                   Grancrest Senki   \n",
      "11010     33899                          IDOLiSH7   \n",
      "11013     34012                   Isekai Shokudou   \n",
      "11041     30448                       Mirai Arise   \n",
      "11053     34262            Oushitsu Kyoushi Haine   \n",
      "11055     33185   Peace Maker Kurogane (Shinsaku)   \n",
      "11058     24023                        Project758   \n",
      "11062     34348                   Rescue Academia   \n",
      "11070     32032                   Seikaisuru Kado   \n",
      "11101     33478                        UQ Holder!   \n",
      "12252     34382                            Citrus   \n",
      "12259     33654                Hitorijime My Hero   \n",
      "\n",
      "                                                   genre type episodes  \\\n",
      "10898                                   Sci-Fi, Thriller  NaN  Unknown   \n",
      "10900  Action, Drama, Mecha, Military, Sci-Fi, Super ...  NaN  Unknown   \n",
      "10906                                     Drama, Fantasy  NaN  Unknown   \n",
      "10907           Action, Drama, Super Power, Supernatural  NaN  Unknown   \n",
      "10918                                     School, Sports  NaN  Unknown   \n",
      "10949                            Action, School, Shounen  NaN  Unknown   \n",
      "10963                Adventure, Fantasy, Romance, Shoujo  NaN  Unknown   \n",
      "10983                                                NaN  NaN  Unknown   \n",
      "10988                            Comedy, Romance, School  NaN  Unknown   \n",
      "10990                                                NaN  NaN  Unknown   \n",
      "10991                                              Music  NaN  Unknown   \n",
      "10994             Action, Drama, Military, Sci-Fi, Space  NaN  Unknown   \n",
      "10995                           Action, Adventure, Mecha  NaN  Unknown   \n",
      "10998                                    Action, Fantasy  NaN  Unknown   \n",
      "11010                                      Music, Shoujo  NaN  Unknown   \n",
      "11013                           Comedy, Fantasy, Mystery  NaN  Unknown   \n",
      "11041                                             Sci-Fi  NaN  Unknown   \n",
      "11053                        Comedy, Historical, Shounen  NaN  Unknown   \n",
      "11055       Action, Comedy, Historical, Samurai, Shounen  NaN  Unknown   \n",
      "11058                                              Drama  NaN  Unknown   \n",
      "11062                                              Drama  NaN  Unknown   \n",
      "11070                                                NaN  NaN  Unknown   \n",
      "11101            Action, Fantasy, Magic, Sci-Fi, Shounen  NaN  Unknown   \n",
      "12252                       Drama, Romance, School, Yuri  NaN  Unknown   \n",
      "12259                                               Yaoi  NaN  Unknown   \n",
      "\n",
      "       rating  members  \n",
      "10898     NaN    60999  \n",
      "10900     NaN    22748  \n",
      "10906     NaN    20564  \n",
      "10907     NaN    22133  \n",
      "10918     NaN     8666  \n",
      "10949     NaN     1896  \n",
      "10963     NaN     4017  \n",
      "10983     NaN       22  \n",
      "10988     NaN     1045  \n",
      "10990     NaN       11  \n",
      "10991     NaN      586  \n",
      "10994     NaN     3969  \n",
      "10995     NaN      627  \n",
      "10998     NaN      360  \n",
      "11010     NaN     1048  \n",
      "11013     NaN      749  \n",
      "11041     NaN     4044  \n",
      "11053     NaN      321  \n",
      "11055     NaN      939  \n",
      "11058     NaN      455  \n",
      "11062     NaN       65  \n",
      "11070     NaN     1797  \n",
      "11101     NaN     2341  \n",
      "12252     NaN     2459  \n",
      "12259     NaN     1574  \n"
     ]
    }
   ],
   "source": [
    "print(anime[anime['type'].isnull()])"
   ]
  },
  {
   "cell_type": "code",
   "execution_count": 6,
   "id": "4214bcb3-4c32-4429-adf2-b936bd13b2f1",
   "metadata": {},
   "outputs": [
    {
     "data": {
      "text/plain": [
       "user_id     7813737\n",
       "anime_id    7813737\n",
       "rating      7813737\n",
       "dtype: int64"
      ]
     },
     "execution_count": 6,
     "metadata": {},
     "output_type": "execute_result"
    }
   ],
   "source": [
    "ratings.count()"
   ]
  },
  {
   "cell_type": "code",
   "execution_count": 7,
   "id": "7d652695-d350-45e8-b522-44fe4e4d631f",
   "metadata": {},
   "outputs": [
    {
     "data": {
      "text/html": [
       "<div>\n",
       "<style scoped>\n",
       "    .dataframe tbody tr th:only-of-type {\n",
       "        vertical-align: middle;\n",
       "    }\n",
       "\n",
       "    .dataframe tbody tr th {\n",
       "        vertical-align: top;\n",
       "    }\n",
       "\n",
       "    .dataframe thead th {\n",
       "        text-align: right;\n",
       "    }\n",
       "</style>\n",
       "<table border=\"1\" class=\"dataframe\">\n",
       "  <thead>\n",
       "    <tr style=\"text-align: right;\">\n",
       "      <th></th>\n",
       "      <th>user_id</th>\n",
       "      <th>anime_id</th>\n",
       "      <th>rating</th>\n",
       "    </tr>\n",
       "  </thead>\n",
       "  <tbody>\n",
       "    <tr>\n",
       "      <th>0</th>\n",
       "      <td>1</td>\n",
       "      <td>20</td>\n",
       "      <td>-1</td>\n",
       "    </tr>\n",
       "    <tr>\n",
       "      <th>1</th>\n",
       "      <td>1</td>\n",
       "      <td>24</td>\n",
       "      <td>-1</td>\n",
       "    </tr>\n",
       "    <tr>\n",
       "      <th>2</th>\n",
       "      <td>1</td>\n",
       "      <td>79</td>\n",
       "      <td>-1</td>\n",
       "    </tr>\n",
       "    <tr>\n",
       "      <th>3</th>\n",
       "      <td>1</td>\n",
       "      <td>226</td>\n",
       "      <td>-1</td>\n",
       "    </tr>\n",
       "    <tr>\n",
       "      <th>4</th>\n",
       "      <td>1</td>\n",
       "      <td>241</td>\n",
       "      <td>-1</td>\n",
       "    </tr>\n",
       "  </tbody>\n",
       "</table>\n",
       "</div>"
      ],
      "text/plain": [
       "   user_id  anime_id  rating\n",
       "0        1        20      -1\n",
       "1        1        24      -1\n",
       "2        1        79      -1\n",
       "3        1       226      -1\n",
       "4        1       241      -1"
      ]
     },
     "execution_count": 7,
     "metadata": {},
     "output_type": "execute_result"
    }
   ],
   "source": [
    "ratings.head()"
   ]
  },
  {
   "cell_type": "code",
   "execution_count": null,
   "id": "f5281457-ecf8-4edb-b92a-e63074665be5",
   "metadata": {},
   "outputs": [],
   "source": []
  }
 ],
 "metadata": {
  "kernelspec": {
   "display_name": "Python 3.10 (pytorch)",
   "language": "python",
   "name": "python3"
  },
  "language_info": {
   "codemirror_mode": {
    "name": "ipython",
    "version": 3
   },
   "file_extension": ".py",
   "mimetype": "text/x-python",
   "name": "python",
   "nbconvert_exporter": "python",
   "pygments_lexer": "ipython3",
   "version": "3.10.9"
  }
 },
 "nbformat": 4,
 "nbformat_minor": 5
}
